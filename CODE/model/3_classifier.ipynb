{
 "cells": [
  {
   "cell_type": "code",
   "execution_count": 1,
   "metadata": {},
   "outputs": [],
   "source": [
    "## Loads data into Jupyter session from pickled file\n",
    "\n",
    "import pickle\n",
    "\n",
    "deserialized = open(\"modeldf.pickle\",\"rb\")\n",
    "df = pickle.load(deserialized)"
   ]
  },
  {
   "cell_type": "code",
   "execution_count": 2,
   "metadata": {},
   "outputs": [],
   "source": [
    "## Assumes 80-20 split under seed 8888 for reproducibility\n",
    "## Split data into test and training sets\n",
    "\n",
    "from random import shuffle, seed\n",
    "\n",
    "def dataSplit(data, testPercent = 0.2, s = 8888):\n",
    "    seed(s)\n",
    "    identifiers = list(range(len(data)))\n",
    "    shuffle(identifiers)\n",
    "    stop = int(len(data) * testPercent)\n",
    "    trainIds, testIds = identifiers[stop:], identifiers[:stop]\n",
    "    return data.iloc[trainIds], data.iloc[testIds]\n",
    "\n",
    "train, test = dataSplit(df)"
   ]
  },
  {
   "cell_type": "code",
   "execution_count": 3,
   "metadata": {},
   "outputs": [
    {
     "data": {
      "text/html": [
       "<div>\n",
       "<style scoped>\n",
       "    .dataframe tbody tr th:only-of-type {\n",
       "        vertical-align: middle;\n",
       "    }\n",
       "\n",
       "    .dataframe tbody tr th {\n",
       "        vertical-align: top;\n",
       "    }\n",
       "\n",
       "    .dataframe thead th {\n",
       "        text-align: right;\n",
       "    }\n",
       "</style>\n",
       "<table border=\"1\" class=\"dataframe\">\n",
       "  <thead>\n",
       "    <tr style=\"text-align: right;\">\n",
       "      <th></th>\n",
       "      <th>Ticket ID</th>\n",
       "      <th>Ticket Created</th>\n",
       "      <th>Date of Issue</th>\n",
       "      <th>Time of Issue</th>\n",
       "      <th>Form</th>\n",
       "      <th>Method</th>\n",
       "      <th>Issue</th>\n",
       "      <th>Caller ID Number</th>\n",
       "      <th>Type of Call or Messge</th>\n",
       "      <th>Advertiser Business Number</th>\n",
       "      <th>...</th>\n",
       "      <th>State</th>\n",
       "      <th>Zip</th>\n",
       "      <th>Location (Target)</th>\n",
       "      <th>Area Code (Target)</th>\n",
       "      <th>Area Code (Source)</th>\n",
       "      <th>Location (Source)</th>\n",
       "      <th>Issue DateTime</th>\n",
       "      <th>Offset</th>\n",
       "      <th>Issue DateTime UTC</th>\n",
       "      <th>Time Elapsed</th>\n",
       "    </tr>\n",
       "  </thead>\n",
       "  <tbody>\n",
       "    <tr>\n",
       "      <th>45170</th>\n",
       "      <td>1173633</td>\n",
       "      <td>2016-09-02 00:58:37</td>\n",
       "      <td>09/01/2016</td>\n",
       "      <td>7:46pm</td>\n",
       "      <td>Phone</td>\n",
       "      <td>Wireless (cell phone/other mobile device)</td>\n",
       "      <td>Robocalls</td>\n",
       "      <td>949-945-2138</td>\n",
       "      <td>Prerecorded Voice</td>\n",
       "      <td>NaN</td>\n",
       "      <td>...</td>\n",
       "      <td>CT</td>\n",
       "      <td>06830</td>\n",
       "      <td>(41.000947, -73.656421)</td>\n",
       "      <td>914</td>\n",
       "      <td>949</td>\n",
       "      <td>(33.573486153846, -117.73371615385)</td>\n",
       "      <td>2016-09-01 19:46:00</td>\n",
       "      <td>-14400.0</td>\n",
       "      <td>2016-09-01 23:46:00</td>\n",
       "      <td>01:12:37</td>\n",
       "    </tr>\n",
       "    <tr>\n",
       "      <th>175561</th>\n",
       "      <td>100741</td>\n",
       "      <td>2015-01-26 20:14:22</td>\n",
       "      <td>01/26/2015</td>\n",
       "      <td>11:30am</td>\n",
       "      <td>Phone</td>\n",
       "      <td>Wired</td>\n",
       "      <td>Telemarketing (including do not call and spoof...</td>\n",
       "      <td>818-666-8081</td>\n",
       "      <td>Live Voice</td>\n",
       "      <td>818-666-8081</td>\n",
       "      <td>...</td>\n",
       "      <td>IA</td>\n",
       "      <td>52404</td>\n",
       "      <td>(41.935555, -91.691484)</td>\n",
       "      <td>319</td>\n",
       "      <td>818</td>\n",
       "      <td>(34.186115, -118.43554333333)</td>\n",
       "      <td>2015-01-26 11:30:00</td>\n",
       "      <td>-18000.0</td>\n",
       "      <td>2015-01-26 16:30:00</td>\n",
       "      <td>03:44:22</td>\n",
       "    </tr>\n",
       "    <tr>\n",
       "      <th>1070318</th>\n",
       "      <td>2517587</td>\n",
       "      <td>2018-05-23 20:52:04</td>\n",
       "      <td>05/23/2018</td>\n",
       "      <td>1:49pm</td>\n",
       "      <td>Phone</td>\n",
       "      <td>Wired</td>\n",
       "      <td>Unwanted Calls</td>\n",
       "      <td>None</td>\n",
       "      <td>Abandoned Calls</td>\n",
       "      <td>916-233-1935</td>\n",
       "      <td>...</td>\n",
       "      <td>CA</td>\n",
       "      <td>95758</td>\n",
       "      <td>(38.424597, -121.423087)</td>\n",
       "      <td>916</td>\n",
       "      <td>NaN</td>\n",
       "      <td>NaN</td>\n",
       "      <td>2018-05-23 13:49:00</td>\n",
       "      <td>-25200.0</td>\n",
       "      <td>2018-05-23 20:49:00</td>\n",
       "      <td>00:03:04</td>\n",
       "    </tr>\n",
       "    <tr>\n",
       "      <th>484910</th>\n",
       "      <td>693520</td>\n",
       "      <td>2015-12-06 02:15:42</td>\n",
       "      <td>12/05/2015</td>\n",
       "      <td>7:45pm</td>\n",
       "      <td>TV</td>\n",
       "      <td>NaN</td>\n",
       "      <td>Loud Commercials</td>\n",
       "      <td>NaN</td>\n",
       "      <td>NaN</td>\n",
       "      <td>NaN</td>\n",
       "      <td>...</td>\n",
       "      <td>NY</td>\n",
       "      <td>14094</td>\n",
       "      <td>(43.157609, -78.667129)</td>\n",
       "      <td>716</td>\n",
       "      <td>NaN</td>\n",
       "      <td>NaN</td>\n",
       "      <td>2015-12-05 19:45:00</td>\n",
       "      <td>-14400.0</td>\n",
       "      <td>2015-12-05 23:45:00</td>\n",
       "      <td>02:30:42</td>\n",
       "    </tr>\n",
       "    <tr>\n",
       "      <th>585677</th>\n",
       "      <td>903066</td>\n",
       "      <td>2016-04-09 00:08:25</td>\n",
       "      <td>04/08/2016</td>\n",
       "      <td>4:00pm</td>\n",
       "      <td>Phone</td>\n",
       "      <td>Wireless (cell phone/other mobile device)</td>\n",
       "      <td>Telemarketing (including do not call and spoof...</td>\n",
       "      <td>617-792-5883</td>\n",
       "      <td>Prerecorded Voice</td>\n",
       "      <td>NaN</td>\n",
       "      <td>...</td>\n",
       "      <td>CA</td>\n",
       "      <td>94303</td>\n",
       "      <td>(37.442789, -122.129574)</td>\n",
       "      <td>650</td>\n",
       "      <td>617</td>\n",
       "      <td>(42.348581818182, -71.100127272727)</td>\n",
       "      <td>2016-04-08 16:00:00</td>\n",
       "      <td>-25200.0</td>\n",
       "      <td>2016-04-08 23:00:00</td>\n",
       "      <td>01:08:25</td>\n",
       "    </tr>\n",
       "  </tbody>\n",
       "</table>\n",
       "<p>5 rows × 21 columns</p>\n",
       "</div>"
      ],
      "text/plain": [
       "         Ticket ID      Ticket Created Date of Issue Time of Issue   Form  \\\n",
       "45170      1173633 2016-09-02 00:58:37    09/01/2016        7:46pm  Phone   \n",
       "175561      100741 2015-01-26 20:14:22    01/26/2015       11:30am  Phone   \n",
       "1070318    2517587 2018-05-23 20:52:04    05/23/2018        1:49pm  Phone   \n",
       "484910      693520 2015-12-06 02:15:42    12/05/2015        7:45pm     TV   \n",
       "585677      903066 2016-04-09 00:08:25    04/08/2016        4:00pm  Phone   \n",
       "\n",
       "                                            Method  \\\n",
       "45170    Wireless (cell phone/other mobile device)   \n",
       "175561                                       Wired   \n",
       "1070318                                      Wired   \n",
       "484910                                         NaN   \n",
       "585677   Wireless (cell phone/other mobile device)   \n",
       "\n",
       "                                                     Issue Caller ID Number  \\\n",
       "45170                                            Robocalls     949-945-2138   \n",
       "175561   Telemarketing (including do not call and spoof...     818-666-8081   \n",
       "1070318                                     Unwanted Calls             None   \n",
       "484910                                    Loud Commercials              NaN   \n",
       "585677   Telemarketing (including do not call and spoof...     617-792-5883   \n",
       "\n",
       "        Type of Call or Messge Advertiser Business Number  ... State    Zip  \\\n",
       "45170        Prerecorded Voice                        NaN  ...    CT  06830   \n",
       "175561              Live Voice               818-666-8081  ...    IA  52404   \n",
       "1070318        Abandoned Calls               916-233-1935  ...    CA  95758   \n",
       "484910                     NaN                        NaN  ...    NY  14094   \n",
       "585677       Prerecorded Voice                        NaN  ...    CA  94303   \n",
       "\n",
       "                Location (Target) Area Code (Target)  Area Code (Source)  \\\n",
       "45170     (41.000947, -73.656421)                914                 949   \n",
       "175561    (41.935555, -91.691484)                319                 818   \n",
       "1070318  (38.424597, -121.423087)                916                 NaN   \n",
       "484910    (43.157609, -78.667129)                716                 NaN   \n",
       "585677   (37.442789, -122.129574)                650                 617   \n",
       "\n",
       "                           Location (Source)       Issue DateTime   Offset  \\\n",
       "45170    (33.573486153846, -117.73371615385)  2016-09-01 19:46:00 -14400.0   \n",
       "175561         (34.186115, -118.43554333333)  2015-01-26 11:30:00 -18000.0   \n",
       "1070318                                  NaN  2018-05-23 13:49:00 -25200.0   \n",
       "484910                                   NaN  2015-12-05 19:45:00 -14400.0   \n",
       "585677   (42.348581818182, -71.100127272727)  2016-04-08 16:00:00 -25200.0   \n",
       "\n",
       "         Issue DateTime UTC Time Elapsed  \n",
       "45170   2016-09-01 23:46:00     01:12:37  \n",
       "175561  2015-01-26 16:30:00     03:44:22  \n",
       "1070318 2018-05-23 20:49:00     00:03:04  \n",
       "484910  2015-12-05 23:45:00     02:30:42  \n",
       "585677  2016-04-08 23:00:00     01:08:25  \n",
       "\n",
       "[5 rows x 21 columns]"
      ]
     },
     "execution_count": 3,
     "metadata": {},
     "output_type": "execute_result"
    }
   ],
   "source": [
    "train.head()"
   ]
  },
  {
   "cell_type": "code",
   "execution_count": 4,
   "metadata": {
    "scrolled": true
   },
   "outputs": [],
   "source": [
    "## Model Development\n",
    "\n",
    "## TODO: USE JACOB'S RANDOM FOREST CLASSIFIER TO IMPUTE NULL ENTRIES IN ISSUE COLUMN\n",
    "## TODO: Create model (most likely Multi-Logistic Classifier) to predict the Method (benchmark ~0.42 R^2 value with Random Forests)\n",
    "\n",
    "## Temporarily remove all null values in Method and Issue\n",
    "\n",
    "## By doing this, this removes approximately 3.33% of the original dataset, which adds bias to the overall model.\n",
    "train = train.dropna(subset=['Issue', 'Method'])\n"
   ]
  },
  {
   "cell_type": "code",
   "execution_count": 5,
   "metadata": {},
   "outputs": [],
   "source": [
    "## Construct classifier to predict Area Code of Source\n",
    "\n",
    "subdf = train.dropna(subset = ['Area Code (Source)'])\n",
    "subnulls = train[train['Area Code (Source)'].isnull()]\n",
    "subtrain, subtest = dataSplit(subdf)\n",
    "\n",
    "## We will store all possible Area Code (Source) values in a list for our LabelEncoder\n",
    "outputs = subdf['Area Code (Source)'].values"
   ]
  },
  {
   "cell_type": "code",
   "execution_count": 6,
   "metadata": {},
   "outputs": [],
   "source": [
    "## Construct feature transform class that converts input data into compatiable input for OneHotEncoding\n",
    "\n",
    "from sklearn.base import BaseEstimator, TransformerMixin\n",
    "\n",
    "class FeatureTransformer(BaseEstimator, TransformerMixin):\n",
    "    def __init__(self, categorical):\n",
    "        self.categorical = categorical\n",
    "        self.data = list()\n",
    "    \n",
    "    def fit(self, X, y = None):\n",
    "        return self\n",
    "    \n",
    "    def transform(self, X):\n",
    "        for row in X[self.categorical].iterrows():\n",
    "            self.data.append(list(row[1].values))\n",
    "        return self.data\n",
    "    \n",
    "featTrans = FeatureTransformer(['Form', 'Method', 'Issue', 'Area Code (Target)'])\n",
    "categoricals = featTrans.transform(subtrain)"
   ]
  },
  {
   "cell_type": "code",
   "execution_count": 7,
   "metadata": {},
   "outputs": [],
   "source": [
    "## Implements OneHotEncoding on all categorical variables, stores boolean matrix in inputs\n",
    "\n",
    "from sklearn.preprocessing import OneHotEncoder\n",
    "\n",
    "enc = OneHotEncoder(handle_unknown='ignore')\n",
    "enc.fit(categoricals)\n",
    "inputs = enc.transform(categoricals)"
   ]
  },
  {
   "cell_type": "code",
   "execution_count": 8,
   "metadata": {},
   "outputs": [
    {
     "data": {
      "image/png": "[encoded data removed]",
      "text/plain": [
       "<Figure size 432x288 with 1 Axes>"
      ]
     },
     "metadata": {},
     "output_type": "display_data"
    }
   ],
   "source": [
    "## Implement TruncatedSVD to engineer linear combinations of features to model interplay between categorical features\n",
    "\n",
    "## PCA is not valid here because the input is sparse.\n",
    "## It doesn't intuitively make any sense to compute standardization of boolean values.\n",
    "\n",
    "%matplotlib inline\n",
    "import numpy as np\n",
    "import matplotlib.pyplot as plt\n",
    "import seaborn as sns; sns.set()\n",
    "\n",
    "from sklearn.decomposition import TruncatedSVD\n",
    "\n",
    "svd = TruncatedSVD(n_components = 15)\n",
    "svd.fit(inputs)\n",
    "plt.plot(np.cumsum(svd.explained_variance_ratio_))\n",
    "plt.xlabel('Number of Components')\n",
    "plt.ylabel('Cumulative Explained Variance');"
   ]
  },
  {
   "cell_type": "code",
   "execution_count": 9,
   "metadata": {},
   "outputs": [],
   "source": [
    "## Use n_components = 4 for SVD and use LabelEncoder to translate data into compatiable format\n",
    "\n",
    "from sklearn.preprocessing import LabelEncoder\n",
    "from sklearn.decomposition import TruncatedSVD\n",
    "\n",
    "svd = TruncatedSVD(n_components = 4)\n",
    "X = svd.fit_transform(inputs)\n",
    "\n",
    "le = LabelEncoder()\n",
    "y = le.fit_transform(outputs)\n",
    "\n"
   ]
  },
  {
   "cell_type": "code",
   "execution_count": 10,
   "metadata": {},
   "outputs": [
    {
     "data": {
      "text/plain": [
       "RandomForestClassifier(bootstrap=True, class_weight=None, criterion='gini',\n",
       "            max_depth=None, max_features='auto', max_leaf_nodes=None,\n",
       "            min_impurity_decrease=0.0, min_impurity_split=None,\n",
       "            min_samples_leaf=1, min_samples_split=2,\n",
       "            min_weight_fraction_leaf=0.0, n_estimators=10, n_jobs=-1,\n",
       "            oob_score=False, random_state=None, verbose=0,\n",
       "            warm_start=False)"
      ]
     },
     "execution_count": 10,
     "metadata": {},
     "output_type": "execute_result"
    }
   ],
   "source": [
    "## Use sample of training set to train a RandomForestClassifier (10% of training set)\n",
    "\n",
    "from sklearn.ensemble import RandomForestClassifier\n",
    "\n",
    "clf = RandomForestClassifier(n_estimators = 10, n_jobs = -1)\n",
    "indices = np.random.choice(len(X), int(len(X)*0.1))\n",
    "clf.fit(X[indices], y[indices])"
   ]
  },
  {
   "cell_type": "code",
   "execution_count": 11,
   "metadata": {},
   "outputs": [
    {
     "data": {
      "text/plain": [
       "0.1262592059595361"
      ]
     },
     "execution_count": 11,
     "metadata": {},
     "output_type": "execute_result"
    }
   ],
   "source": [
    "## Training Error is fairly low (~0.12)...\n",
    "\n",
    "clf.score(X[indices], y[indices])"
   ]
  },
  {
   "cell_type": "code",
   "execution_count": 12,
   "metadata": {},
   "outputs": [
    {
     "data": {
      "text/plain": [
       "0.015677377848508447"
      ]
     },
     "execution_count": 12,
     "metadata": {},
     "output_type": "execute_result"
    }
   ],
   "source": [
    "## Test Error isn't much better...\n",
    "\n",
    "categoricals = featTrans.transform(subtest)\n",
    "inputs = enc.transform(categoricals)\n",
    "X_test = svd.transform(inputs)\n",
    "y_test = le.transform(outputs)\n",
    "indices = np.random.choice(len(X_test), int(len(X_test)*0.1))\n",
    "\n",
    "clf.score(X_test[indices], y_test[indices])\n"
   ]
  },
  {
   "cell_type": "code",
   "execution_count": null,
   "metadata": {},
   "outputs": [],
   "source": [
    "## Conclusion: There is no relationship of Area Code (Source) that can be captured from the previously given data.\n",
    "## This is expected since these phone numbers are most likely randomly generated to hide the true identity of the spammer.\n",
    "## There is no relationship between the type of call and the observed phone number."
   ]
  }
 ],
 "metadata": {
  "kernelspec": {
   "display_name": "Python 3",
   "language": "python",
   "name": "python3"
  },
  "language_info": {
   "codemirror_mode": {
    "name": "ipython",
    "version": 3
   },
   "file_extension": ".py",
   "mimetype": "text/x-python",
   "name": "python",
   "nbconvert_exporter": "python",
   "pygments_lexer": "ipython3",
   "version": "3.6.8"
  }
 },
 "nbformat": 4,
 "nbformat_minor": 2
}
